{
 "cells": [
  {
   "cell_type": "markdown",
   "metadata": {},
   "source": [
    "# Find \\*.tifs with no matching \\*.jpg\n",
    "\n",
    "#### Created on Cinco de Mayo in 2020 by Jeremy Moore and David Armstrong to identify \\*.tif images that don't have a matching \\*.jpg image for the Asian Art Museum of San Francisco\n",
    "\n",
    "1. Manually set root_dir_path to the full path of the directory containing your *all_jpgs* and *all_tifs* directories\n",
    "1. Programatically create a *no_match* directory inside of *all_tifs*\n",
    "1. Get list of all \\*.tifs in *all_tifs* directory\n",
    "1. Get the identier, or stem, of each \\*.tif\n",
    "1. Check if this identifier exists as a \\*.jpg in the *all_jpgs* directory first as a test\n",
    "1. Run again and if there is no matching \\*.jpg, move the \\*.tif into the *no_match* directory\n",
    "\n",
    "***Update root_dir_path location and verify names of *.jpg and *.tif directories below BEFORE running any cells!***"
   ]
  },
  {
   "cell_type": "code",
   "execution_count": 1,
   "metadata": {},
   "outputs": [],
   "source": [
    "# imports from standard library\n",
    "from pathlib import Path"
   ]
  },
  {
   "cell_type": "code",
   "execution_count": 2,
   "metadata": {},
   "outputs": [
    {
     "name": "stdout",
     "output_type": "stream",
     "text": [
      "root_dir_path: /Users/dlisla/Pictures/test_directory\n",
      "root_dir_path.name: test_directory\n"
     ]
    }
   ],
   "source": [
    "# set root directory path that contains the directories with our tifs and jpgs\n",
    "root_dir_path = Path('/Users/dlisla/Pictures/test_directory')\n",
    "\n",
    "print(f'root_dir_path: {root_dir_path}')\n",
    "print(f'root_dir_path.name: {root_dir_path.name}')"
   ]
  },
  {
   "cell_type": "code",
   "execution_count": 3,
   "metadata": {},
   "outputs": [
    {
     "name": "stdout",
     "output_type": "stream",
     "text": [
      "Does the no_match directory exist? True\n"
     ]
    }
   ],
   "source": [
    "# set path to directory with our all_jpgs and all_tifs\n",
    "bad_jpg_dir_path = root_dir_path.joinpath('all_jpgs')\n",
    "all_tifs_dir_path = root_dir_path.joinpath('all_tifs')\n",
    "\n",
    "# create a directory inside of all_tifs directory named no_match to move \n",
    "no_match_dir_path = all_tifs_dir_path.joinpath('no_match')\n",
    "no_match_dir_path.mkdir()  # will raise a FileExistsError if the no_match directory already exists\n",
    "\n",
    "# verify existence of no_match directory, if False, then do not continue\n",
    "print(f'Does the no_match directory exist? {no_match_dir_path.is_dir()}')"
   ]
  },
  {
   "cell_type": "code",
   "execution_count": 4,
   "metadata": {},
   "outputs": [
    {
     "name": "stdout",
     "output_type": "stream",
     "text": [
      "Total number of *.tif: 4\n",
      "\n",
      "First *.tif paths: /Users/dlisla/Pictures/test_directory/all_tifs/01.tif\n",
      "Last *.tif paths: /Users/dlisla/Pictures/test_directory/all_tifs/04.tif\n"
     ]
    }
   ],
   "source": [
    "# get sorted list of all *.tifs in all_tifs directory\n",
    "# NOTE: this is NOT recursive and will not look inside of all_tifs subdirectories\n",
    "# NOTE: this may also find non-image hidden files that start with a '.' and end with .tif\n",
    "tif_path_list = sorted(all_tifs_dir_path.glob('*.tif'))\n",
    "\n",
    "print(f'Total number of *.tif: {len(tif_path_list)}\\n')\n",
    "print(f'First *.tif paths: {tif_path_list[0]}')\n",
    "print(f'Last *.tif paths: {tif_path_list[-1]}')"
   ]
  },
  {
   "cell_type": "code",
   "execution_count": 5,
   "metadata": {},
   "outputs": [
    {
     "name": "stdout",
     "output_type": "stream",
     "text": [
      "03.tif has no matching *.jpg\n",
      "Moving to /Users/dlisla/Pictures/test_directory/all_tifs/no_match/03.tif . . . (not really, this is a test)\n",
      "\n"
     ]
    }
   ],
   "source": [
    "# for loop to test our code test what will happen\n",
    "for tif_path in tif_path_list:\n",
    "    \n",
    "    # get image's identifier to match against the JPEG filenames\n",
    "    identifier = tif_path.stem  # stem is the Python name for identifier\n",
    "    \n",
    "    \n",
    "    # set jpg filename and path\n",
    "    jpg_filename = f'{identifier}.jpg'\n",
    "    jpg_path = bad_jpg_dir_path.joinpath(jpg_filename)\n",
    "    \n",
    "    \n",
    "    # does jpg exist?\n",
    "    if jpg_path.is_file():  # there's a match\n",
    "\n",
    "        # print(f'{jpg_path.name} has a match!\\n')  # commented out to silently skip matched images\n",
    "        pass\n",
    "    \n",
    "    else:  # we need to move it into our no_match directory\n",
    "        \n",
    "        print(f'{tif_path.name} has no matching *.jpg')\n",
    "        \n",
    "        # set new tif path inside of the no_match directory\n",
    "        new_tif_path = no_match_dir_path.joinpath(tif_path.name)\n",
    "        \n",
    "        print(f'Moving to {new_tif_path} . . . (not really, this is a test)\\n')"
   ]
  },
  {
   "cell_type": "code",
   "execution_count": 6,
   "metadata": {},
   "outputs": [
    {
     "name": "stdout",
     "output_type": "stream",
     "text": [
      "03.tif has no JPEG\n",
      "Moving to /Users/dlisla/Pictures/test_directory/all_tifs/no_match/03.tif . . .\n",
      "Success!\n",
      "\n"
     ]
    }
   ],
   "source": [
    "# warning, will move files!\n",
    "for tif_path in tif_path_list:\n",
    "    \n",
    "    # get image's identifier to match against the JPEG filenames\n",
    "    identifier = tif_path.stem  # stem is the Python name for identifier\n",
    "    \n",
    "    \n",
    "    # set jpg filename and path\n",
    "    jpg_filename = f'{identifier}.jpg'\n",
    "    jpg_path = bad_jpg_dir_path.joinpath(jpg_filename)\n",
    "    \n",
    "    \n",
    "    # does jpg exist?\n",
    "    if jpg_path.is_file():  # there's a match\n",
    "\n",
    "        # print(f'{jpg_path.name} has a match!\\n')  # commented out to silently skip matched images\n",
    "        pass\n",
    "    \n",
    "    else:  # we need to move it into our no_match directory\n",
    "        \n",
    "        print(f'{tif_path.name} has no JPEG')\n",
    "        \n",
    "        # set new tif path inside of the no_match directory\n",
    "        new_tif_path = no_match_dir_path.joinpath(tif_path.name)\n",
    "        \n",
    "        print(f'Moving to {new_tif_path} . . .')\n",
    "        \n",
    "        # move our file\n",
    "        tif_path.rename(new_tif_path)\n",
    "        \n",
    "        if new_tif_path.is_file():\n",
    "            print('Success!\\n')\n",
    "        else:\n",
    "            print('Something broke with moving:{tif_path.name} to {tif_path}!!\\n')"
   ]
  },
  {
   "cell_type": "code",
   "execution_count": null,
   "metadata": {},
   "outputs": [],
   "source": []
  }
 ],
 "metadata": {
  "kernelspec": {
   "display_name": "Python 3",
   "language": "python",
   "name": "python3"
  },
  "language_info": {
   "codemirror_mode": {
    "name": "ipython",
    "version": 3
   },
   "file_extension": ".py",
   "mimetype": "text/x-python",
   "name": "python",
   "nbconvert_exporter": "python",
   "pygments_lexer": "ipython3",
   "version": "3.7.7"
  }
 },
 "nbformat": 4,
 "nbformat_minor": 4
}
